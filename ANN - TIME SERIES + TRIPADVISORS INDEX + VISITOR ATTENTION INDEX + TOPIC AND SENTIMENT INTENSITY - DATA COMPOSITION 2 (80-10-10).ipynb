{
 "cells": [
  {
   "cell_type": "code",
   "execution_count": 3,
   "id": "9ecb0c33",
   "metadata": {},
   "outputs": [],
   "source": [
    "# Pandas is used for data manipulation\n",
    "import pandas as pd\n",
    "import numpy as np\n",
    "import matplotlib.pyplot as plt"
   ]
  },
  {
   "cell_type": "code",
   "execution_count": 4,
   "id": "226c6845",
   "metadata": {},
   "outputs": [
    {
     "data": {
      "text/html": [
       "<div>\n",
       "<style scoped>\n",
       "    .dataframe tbody tr th:only-of-type {\n",
       "        vertical-align: middle;\n",
       "    }\n",
       "\n",
       "    .dataframe tbody tr th {\n",
       "        vertical-align: top;\n",
       "    }\n",
       "\n",
       "    .dataframe thead th {\n",
       "        text-align: right;\n",
       "    }\n",
       "</style>\n",
       "<table border=\"1\" class=\"dataframe\">\n",
       "  <thead>\n",
       "    <tr style=\"text-align: right;\">\n",
       "      <th></th>\n",
       "      <th>Month</th>\n",
       "      <th>Tourist Arrival</th>\n",
       "      <th>Number of Posts</th>\n",
       "      <th>Number of Comments</th>\n",
       "      <th>Airbnb Vietnam</th>\n",
       "      <th>Vietnam restaurant</th>\n",
       "      <th>Shopping in Hanoi</th>\n",
       "      <th>Shopping in Ho Chi Minh</th>\n",
       "      <th>Vietnam tour</th>\n",
       "      <th>Skyscanner</th>\n",
       "      <th>...</th>\n",
       "      <th>TOPIC 2</th>\n",
       "      <th>TOPIC 3</th>\n",
       "      <th>TOPIC 4</th>\n",
       "      <th>TOPIC 5</th>\n",
       "      <th>TOPIC 6</th>\n",
       "      <th>TOPIC 7</th>\n",
       "      <th>TOPIC 8</th>\n",
       "      <th>TOPIC 9</th>\n",
       "      <th>TOPIC 10</th>\n",
       "      <th>Class</th>\n",
       "    </tr>\n",
       "  </thead>\n",
       "  <tbody>\n",
       "    <tr>\n",
       "      <th>0</th>\n",
       "      <td>01/01/2008</td>\n",
       "      <td>399556</td>\n",
       "      <td>403</td>\n",
       "      <td>3049</td>\n",
       "      <td>11</td>\n",
       "      <td>59</td>\n",
       "      <td>32</td>\n",
       "      <td>8</td>\n",
       "      <td>58</td>\n",
       "      <td>7</td>\n",
       "      <td>...</td>\n",
       "      <td>0.010894</td>\n",
       "      <td>0.889993</td>\n",
       "      <td>0.011228</td>\n",
       "      <td>0.010641</td>\n",
       "      <td>0.001710</td>\n",
       "      <td>0.014932</td>\n",
       "      <td>0.027566</td>\n",
       "      <td>0.014081</td>\n",
       "      <td>0.010241</td>\n",
       "      <td>Train</td>\n",
       "    </tr>\n",
       "    <tr>\n",
       "      <th>1</th>\n",
       "      <td>01/02/2008</td>\n",
       "      <td>411032</td>\n",
       "      <td>357</td>\n",
       "      <td>3211</td>\n",
       "      <td>0</td>\n",
       "      <td>51</td>\n",
       "      <td>0</td>\n",
       "      <td>0</td>\n",
       "      <td>46</td>\n",
       "      <td>6</td>\n",
       "      <td>...</td>\n",
       "      <td>0.010974</td>\n",
       "      <td>0.007221</td>\n",
       "      <td>0.006829</td>\n",
       "      <td>0.006410</td>\n",
       "      <td>0.005451</td>\n",
       "      <td>0.011673</td>\n",
       "      <td>0.014948</td>\n",
       "      <td>0.913561</td>\n",
       "      <td>0.013848</td>\n",
       "      <td>Train</td>\n",
       "    </tr>\n",
       "    <tr>\n",
       "      <th>2</th>\n",
       "      <td>01/03/2008</td>\n",
       "      <td>414332</td>\n",
       "      <td>344</td>\n",
       "      <td>3153</td>\n",
       "      <td>0</td>\n",
       "      <td>57</td>\n",
       "      <td>7</td>\n",
       "      <td>24</td>\n",
       "      <td>58</td>\n",
       "      <td>6</td>\n",
       "      <td>...</td>\n",
       "      <td>0.005849</td>\n",
       "      <td>0.006917</td>\n",
       "      <td>0.009097</td>\n",
       "      <td>0.007196</td>\n",
       "      <td>0.001611</td>\n",
       "      <td>0.007281</td>\n",
       "      <td>0.005533</td>\n",
       "      <td>0.014198</td>\n",
       "      <td>0.934153</td>\n",
       "      <td>Train</td>\n",
       "    </tr>\n",
       "    <tr>\n",
       "      <th>3</th>\n",
       "      <td>01/04/2008</td>\n",
       "      <td>395900</td>\n",
       "      <td>338</td>\n",
       "      <td>3184</td>\n",
       "      <td>0</td>\n",
       "      <td>51</td>\n",
       "      <td>6</td>\n",
       "      <td>9</td>\n",
       "      <td>58</td>\n",
       "      <td>6</td>\n",
       "      <td>...</td>\n",
       "      <td>0.013789</td>\n",
       "      <td>0.005867</td>\n",
       "      <td>0.911020</td>\n",
       "      <td>0.012191</td>\n",
       "      <td>0.001259</td>\n",
       "      <td>0.014063</td>\n",
       "      <td>0.019446</td>\n",
       "      <td>0.006807</td>\n",
       "      <td>0.008030</td>\n",
       "      <td>Train</td>\n",
       "    </tr>\n",
       "    <tr>\n",
       "      <th>4</th>\n",
       "      <td>01/05/2008</td>\n",
       "      <td>366387</td>\n",
       "      <td>369</td>\n",
       "      <td>2964</td>\n",
       "      <td>0</td>\n",
       "      <td>57</td>\n",
       "      <td>0</td>\n",
       "      <td>7</td>\n",
       "      <td>57</td>\n",
       "      <td>6</td>\n",
       "      <td>...</td>\n",
       "      <td>0.007257</td>\n",
       "      <td>0.010529</td>\n",
       "      <td>0.011619</td>\n",
       "      <td>0.014288</td>\n",
       "      <td>0.001458</td>\n",
       "      <td>0.015968</td>\n",
       "      <td>0.915464</td>\n",
       "      <td>0.010944</td>\n",
       "      <td>0.003609</td>\n",
       "      <td>Train</td>\n",
       "    </tr>\n",
       "  </tbody>\n",
       "</table>\n",
       "<p>5 rows × 36 columns</p>\n",
       "</div>"
      ],
      "text/plain": [
       "        Month  Tourist Arrival  Number of Posts  Number of Comments  \\\n",
       "0  01/01/2008           399556              403                3049   \n",
       "1  01/02/2008           411032              357                3211   \n",
       "2  01/03/2008           414332              344                3153   \n",
       "3  01/04/2008           395900              338                3184   \n",
       "4  01/05/2008           366387              369                2964   \n",
       "\n",
       "   Airbnb Vietnam  Vietnam restaurant  Shopping in Hanoi  \\\n",
       "0              11                  59                 32   \n",
       "1               0                  51                  0   \n",
       "2               0                  57                  7   \n",
       "3               0                  51                  6   \n",
       "4               0                  57                  0   \n",
       "\n",
       "   Shopping in Ho Chi Minh   Vietnam tour    Skyscanner   ...   TOPIC 2  \\\n",
       "0                        8              58             7  ...  0.010894   \n",
       "1                        0              46             6  ...  0.010974   \n",
       "2                       24              58             6  ...  0.005849   \n",
       "3                        9              58             6  ...  0.013789   \n",
       "4                        7              57             6  ...  0.007257   \n",
       "\n",
       "    TOPIC 3   TOPIC 4   TOPIC 5   TOPIC 6   TOPIC 7   TOPIC 8   TOPIC 9  \\\n",
       "0  0.889993  0.011228  0.010641  0.001710  0.014932  0.027566  0.014081   \n",
       "1  0.007221  0.006829  0.006410  0.005451  0.011673  0.014948  0.913561   \n",
       "2  0.006917  0.009097  0.007196  0.001611  0.007281  0.005533  0.014198   \n",
       "3  0.005867  0.911020  0.012191  0.001259  0.014063  0.019446  0.006807   \n",
       "4  0.010529  0.011619  0.014288  0.001458  0.015968  0.915464  0.010944   \n",
       "\n",
       "   TOPIC 10  Class  \n",
       "0  0.010241  Train  \n",
       "1  0.013848  Train  \n",
       "2  0.934153  Train  \n",
       "3  0.008030  Train  \n",
       "4  0.003609  Train  \n",
       "\n",
       "[5 rows x 36 columns]"
      ]
     },
     "execution_count": 4,
     "metadata": {},
     "output_type": "execute_result"
    }
   ],
   "source": [
    "# Read in data and display fist 5 rows\n",
    "df = pd.read_csv('TIME SERIES + TRIPADVISORS INDEX + VISITOR ATTENTION INDEX + TOPIC AND SENTIMENT INTENSITY - DATA COMPOSITION 2 (80-10-10).csv')\n",
    "df.head(5)"
   ]
  },
  {
   "cell_type": "code",
   "execution_count": 5,
   "id": "193a8024",
   "metadata": {},
   "outputs": [],
   "source": [
    "import datetime\n",
    "df['Month'] = pd.to_datetime(df['Month'])\n",
    "df['Month'] = df['Month'].dt.strftime('%d.%m.%Y')\n",
    "df['Month'] = pd.DatetimeIndex(df['Month']).dayofyear"
   ]
  },
  {
   "cell_type": "code",
   "execution_count": 6,
   "id": "b62311a7",
   "metadata": {},
   "outputs": [],
   "source": [
    "x=df.drop('Tourist Arrival', axis=1)\n",
    "y=df['Tourist Arrival']"
   ]
  },
  {
   "cell_type": "code",
   "execution_count": 7,
   "id": "2ec62709",
   "metadata": {},
   "outputs": [
    {
     "name": "stdout",
     "output_type": "stream",
     "text": [
      "(148, 36)\n",
      "(19, 36)\n",
      "(19, 36)\n"
     ]
    }
   ],
   "source": [
    "train = df[df[\"Class\"] == \"Train\"]\n",
    "validation = df[df[\"Class\"] == \"Validation\"]\n",
    "test = df[df[\"Class\"] == \"Test\"]\n",
    "print(train.shape)\n",
    "print(validation.shape)\n",
    "print(test.shape)"
   ]
  },
  {
   "cell_type": "code",
   "execution_count": 8,
   "id": "9be894a2",
   "metadata": {},
   "outputs": [],
   "source": [
    "train = train.drop(['Class'], axis=1)\n",
    "validation = validation.drop(['Class'], axis=1)\n",
    "test = test.drop(['Class'], axis=1)"
   ]
  },
  {
   "cell_type": "code",
   "execution_count": 9,
   "id": "dc413a17",
   "metadata": {},
   "outputs": [
    {
     "name": "stdout",
     "output_type": "stream",
     "text": [
      "(148, 34)\n",
      "(148, 1)\n"
     ]
    }
   ],
   "source": [
    "target_column_train = ['Tourist Arrival']\n",
    "predictors_train = list(set(list(train.columns))-set(target_column_train))\n",
    "\n",
    "x_train = train[predictors_train].values\n",
    "y_train = train[target_column_train].values\n",
    "\n",
    "\n",
    "print(x_train.shape)\n",
    "print(y_train.shape)"
   ]
  },
  {
   "cell_type": "code",
   "execution_count": 10,
   "id": "f0802c44",
   "metadata": {},
   "outputs": [
    {
     "name": "stdout",
     "output_type": "stream",
     "text": [
      "(19, 34)\n",
      "(19, 1)\n"
     ]
    }
   ],
   "source": [
    "target_column_validation = ['Tourist Arrival'] \n",
    "predictors_validation = list(set(list(validation.columns))-set(target_column_validation))\n",
    "\n",
    "x_validation = validation[predictors_validation].values\n",
    "y_validation = validation[target_column_validation].values\n",
    "\n",
    "print(x_validation.shape)\n",
    "print(y_validation.shape)"
   ]
  },
  {
   "cell_type": "code",
   "execution_count": 11,
   "id": "92ca07dd",
   "metadata": {},
   "outputs": [
    {
     "name": "stdout",
     "output_type": "stream",
     "text": [
      "(19, 34)\n",
      "(19, 1)\n"
     ]
    }
   ],
   "source": [
    "target_column_test = ['Tourist Arrival'] \n",
    "predictors_test = list(set(list(test.columns))-set(target_column_test))\n",
    "\n",
    "x_test = test[predictors_test].values\n",
    "y_test = test[target_column_test].values\n",
    "\n",
    "print(x_test.shape)\n",
    "print(y_test.shape)"
   ]
  },
  {
   "cell_type": "code",
   "execution_count": 12,
   "id": "5e922766",
   "metadata": {},
   "outputs": [],
   "source": [
    "params = {'solver': ['lbfgs', 'sgd', 'adam'],\n",
    "          'hidden_layer_sizes': [10,20,30,40,50],\n",
    "          'learning_rate': ['constant', 'invscaling', 'adaptive'],\n",
    "          'shuffle': [True, False],\n",
    "          'activation': ['identity', 'logistic', 'tanh', 'relu']}"
   ]
  },
  {
   "cell_type": "code",
   "execution_count": 13,
   "id": "1cb10b48",
   "metadata": {},
   "outputs": [
    {
     "name": "stderr",
     "output_type": "stream",
     "text": [
      "/opt/anaconda3/lib/python3.9/site-packages/sklearn/neural_network/_multilayer_perceptron.py:1599: DataConversionWarning: A column-vector y was passed when a 1d array was expected. Please change the shape of y to (n_samples, ), for example using ravel().\n",
      "  y = column_or_1d(y, warn=True)\n",
      "/opt/anaconda3/lib/python3.9/site-packages/sklearn/neural_network/_multilayer_perceptron.py:692: ConvergenceWarning: Stochastic Optimizer: Maximum iterations (10000) reached and the optimization hasn't converged yet.\n",
      "  warnings.warn(\n"
     ]
    },
    {
     "data": {
      "text/plain": [
       "MLPRegressor(activation='identity', hidden_layer_sizes=20, max_iter=10000,\n",
       "             random_state=9876, shuffle=False)"
      ]
     },
     "execution_count": 13,
     "metadata": {},
     "output_type": "execute_result"
    }
   ],
   "source": [
    "from sklearn.neural_network import MLPRegressor\n",
    "nn = MLPRegressor(solver='adam',\n",
    "                  hidden_layer_sizes=20,\n",
    "                  max_iter=10000,\n",
    "                  learning_rate='constant',\n",
    "                  shuffle=False,\n",
    "                  random_state=9876,\n",
    "                  activation='identity')\n",
    "nn.fit(x_train, y_train)"
   ]
  },
  {
   "cell_type": "code",
   "execution_count": 76,
   "id": "ecf46d74",
   "metadata": {},
   "outputs": [],
   "source": [
    "from sklearn.model_selection import GridSearchCV\n",
    "gs=GridSearchCV(estimator=nn, param_grid=params, cv=10)"
   ]
  },
  {
   "cell_type": "code",
   "execution_count": null,
   "id": "7c87945d",
   "metadata": {},
   "outputs": [
    {
     "name": "stderr",
     "output_type": "stream",
     "text": [
      "/opt/anaconda3/lib/python3.9/site-packages/sklearn/neural_network/_multilayer_perceptron.py:1599: DataConversionWarning: A column-vector y was passed when a 1d array was expected. Please change the shape of y to (n_samples, ), for example using ravel().\n",
      "  y = column_or_1d(y, warn=True)\n",
      "/opt/anaconda3/lib/python3.9/site-packages/sklearn/neural_network/_multilayer_perceptron.py:1599: DataConversionWarning: A column-vector y was passed when a 1d array was expected. Please change the shape of y to (n_samples, ), for example using ravel().\n",
      "  y = column_or_1d(y, warn=True)\n",
      "/opt/anaconda3/lib/python3.9/site-packages/sklearn/neural_network/_multilayer_perceptron.py:1599: DataConversionWarning: A column-vector y was passed when a 1d array was expected. Please change the shape of y to (n_samples, ), for example using ravel().\n",
      "  y = column_or_1d(y, warn=True)\n",
      "/opt/anaconda3/lib/python3.9/site-packages/sklearn/neural_network/_multilayer_perceptron.py:1599: DataConversionWarning: A column-vector y was passed when a 1d array was expected. Please change the shape of y to (n_samples, ), for example using ravel().\n",
      "  y = column_or_1d(y, warn=True)\n",
      "/opt/anaconda3/lib/python3.9/site-packages/sklearn/neural_network/_multilayer_perceptron.py:1599: DataConversionWarning: A column-vector y was passed when a 1d array was expected. Please change the shape of y to (n_samples, ), for example using ravel().\n",
      "  y = column_or_1d(y, warn=True)\n",
      "/opt/anaconda3/lib/python3.9/site-packages/sklearn/neural_network/_multilayer_perceptron.py:1599: DataConversionWarning: A column-vector y was passed when a 1d array was expected. Please change the shape of y to (n_samples, ), for example using ravel().\n",
      "  y = column_or_1d(y, warn=True)\n",
      "/opt/anaconda3/lib/python3.9/site-packages/sklearn/neural_network/_multilayer_perceptron.py:1599: DataConversionWarning: A column-vector y was passed when a 1d array was expected. Please change the shape of y to (n_samples, ), for example using ravel().\n",
      "  y = column_or_1d(y, warn=True)\n",
      "/opt/anaconda3/lib/python3.9/site-packages/sklearn/neural_network/_multilayer_perceptron.py:1599: DataConversionWarning: A column-vector y was passed when a 1d array was expected. Please change the shape of y to (n_samples, ), for example using ravel().\n",
      "  y = column_or_1d(y, warn=True)\n",
      "/opt/anaconda3/lib/python3.9/site-packages/sklearn/neural_network/_multilayer_perceptron.py:1599: DataConversionWarning: A column-vector y was passed when a 1d array was expected. Please change the shape of y to (n_samples, ), for example using ravel().\n",
      "  y = column_or_1d(y, warn=True)\n",
      "/opt/anaconda3/lib/python3.9/site-packages/sklearn/neural_network/_multilayer_perceptron.py:1599: DataConversionWarning: A column-vector y was passed when a 1d array was expected. Please change the shape of y to (n_samples, ), for example using ravel().\n",
      "  y = column_or_1d(y, warn=True)\n",
      "/opt/anaconda3/lib/python3.9/site-packages/sklearn/neural_network/_multilayer_perceptron.py:1599: DataConversionWarning: A column-vector y was passed when a 1d array was expected. Please change the shape of y to (n_samples, ), for example using ravel().\n",
      "  y = column_or_1d(y, warn=True)\n",
      "/opt/anaconda3/lib/python3.9/site-packages/sklearn/neural_network/_base.py:174: RuntimeWarning: overflow encountered in square\n",
      "  return ((y_true - y_pred) ** 2).mean() / 2\n",
      "/opt/anaconda3/lib/python3.9/site-packages/sklearn/utils/extmath.py:153: RuntimeWarning: overflow encountered in matmul\n",
      "  ret = a @ b\n",
      "/opt/anaconda3/lib/python3.9/site-packages/sklearn/utils/extmath.py:153: RuntimeWarning: invalid value encountered in matmul\n",
      "  ret = a @ b\n"
     ]
    }
   ],
   "source": [
    "gs=gs.fit(x_train, y_train)"
   ]
  },
  {
   "cell_type": "code",
   "execution_count": null,
   "id": "599b424d",
   "metadata": {},
   "outputs": [],
   "source": [
    "best_params=gs.best_params_"
   ]
  },
  {
   "cell_type": "code",
   "execution_count": 14,
   "id": "2251c084",
   "metadata": {},
   "outputs": [],
   "source": [
    "from math import sqrt\n",
    "from sklearn.metrics import mean_absolute_error \n",
    "from sklearn.metrics import mean_absolute_percentage_error\n",
    "from sklearn.metrics import mean_squared_error"
   ]
  },
  {
   "cell_type": "code",
   "execution_count": 15,
   "id": "16966cf8",
   "metadata": {},
   "outputs": [
    {
     "name": "stdout",
     "output_type": "stream",
     "text": [
      "[-48104.20253414 192125.88839777 218009.88779036 289852.42117142\n",
      " 405382.93709968 450007.72186459 484094.57400935 544850.03835543\n",
      " 555804.95249456 573456.87921046 627244.72016764 664562.99693733\n",
      " 604500.91164341 920569.83570792 884518.35949535 888963.45363969\n",
      " 819774.52956279 738999.35805989 702420.85400293]\n"
     ]
    }
   ],
   "source": [
    "y_pred=nn.predict(x_test)\n",
    "print(y_pred)"
   ]
  },
  {
   "cell_type": "code",
   "execution_count": 16,
   "id": "114acdec",
   "metadata": {},
   "outputs": [
    {
     "name": "stdout",
     "output_type": "stream",
     "text": [
      "Root Mean Squared Error: 193141.79087179026\n"
     ]
    }
   ],
   "source": [
    "RMSE = np.sqrt(mean_squared_error(y_test, y_pred))\n",
    "print(\"Root Mean Squared Error:\", RMSE)"
   ]
  },
  {
   "cell_type": "code",
   "execution_count": 17,
   "id": "a08a4984",
   "metadata": {},
   "outputs": [
    {
     "name": "stdout",
     "output_type": "stream",
     "text": [
      "Mean Absolute Error: 165513.55733350545\n"
     ]
    }
   ],
   "source": [
    "MAE = mean_absolute_error(y_test, y_pred)\n",
    "print(\"Mean Absolute Error:\", MAE)"
   ]
  },
  {
   "cell_type": "code",
   "execution_count": 18,
   "id": "2e615fca",
   "metadata": {},
   "outputs": [
    {
     "name": "stdout",
     "output_type": "stream",
     "text": [
      "Mean Absolute Percentage Error: 11.426032570592234\n"
     ]
    }
   ],
   "source": [
    "MAPE = mean_absolute_percentage_error(y_test, y_pred)\n",
    "print(\"Mean Absolute Percentage Error:\", MAPE)"
   ]
  },
  {
   "cell_type": "code",
   "execution_count": 19,
   "id": "13fef1e2",
   "metadata": {},
   "outputs": [
    {
     "name": "stdout",
     "output_type": "stream",
     "text": [
      "SMAPE : 1799.1395289635864\n"
     ]
    }
   ],
   "source": [
    "def SMAPE(y_test,y_pred):\n",
    "    return 100/len(y_test) * np.sum(2 * np.abs(y_pred - y_test) / (np.abs(y_test) + np.abs(y_pred)))\n",
    "result = SMAPE(y_test,y_pred)\n",
    "print(\"SMAPE :\", result)"
   ]
  },
  {
   "cell_type": "code",
   "execution_count": 20,
   "id": "ae97dfc4",
   "metadata": {},
   "outputs": [
    {
     "name": "stdout",
     "output_type": "stream",
     "text": [
      "RMSPE : 10325.774435490162\n"
     ]
    }
   ],
   "source": [
    "def RMSPE(y_test, y_pred):\n",
    "    return np.sqrt(np.nanmean(np.square(((y_test - y_pred) / y_test))))*100\n",
    "result1 = RMSPE(y_test,y_pred)\n",
    "print(\"RMSPE :\", result1)"
   ]
  },
  {
   "cell_type": "code",
   "execution_count": 21,
   "id": "0e48c61d",
   "metadata": {},
   "outputs": [
    {
     "data": {
      "image/png": "[encoded data removed]",
      "text/plain": [
       "<Figure size 640x480 with 1 Axes>"
      ]
     },
     "metadata": {},
     "output_type": "display_data"
    }
   ],
   "source": [
    "x_ax = range(len(y_test))\n",
    "plt.plot(x_ax, y_test, label=\"The Real Number of Tourist Arrivals\")\n",
    "plt.plot(x_ax, y_pred, label=\"The Predicted Number of Tourist Arrivals\")\n",
    "plt.title(\"Tourist Arrivals Test and Predicted Data \\n ANN - Time Series + Tripadvisors Index + Visitor Attention Index + Topic and Sentiment Intensity - Data Composition 2 (80-10-10)\")\n",
    "plt.legend()\n",
    "plt.show()"
   ]
  },
  {
   "cell_type": "code",
   "execution_count": null,
   "id": "6cc57808",
   "metadata": {},
   "outputs": [],
   "source": []
  }
 ],
 "metadata": {
  "kernelspec": {
   "display_name": "Python 3 (ipykernel)",
   "language": "python",
   "name": "python3"
  },
  "language_info": {
   "codemirror_mode": {
    "name": "ipython",
    "version": 3
   },
   "file_extension": ".py",
   "mimetype": "text/x-python",
   "name": "python",
   "nbconvert_exporter": "python",
   "pygments_lexer": "ipython3",
   "version": "3.9.13"
  }
 },
 "nbformat": 4,
 "nbformat_minor": 5
}
