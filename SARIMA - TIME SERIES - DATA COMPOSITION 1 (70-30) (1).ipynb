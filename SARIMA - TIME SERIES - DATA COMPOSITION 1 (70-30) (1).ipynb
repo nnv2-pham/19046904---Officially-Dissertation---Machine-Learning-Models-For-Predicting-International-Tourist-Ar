{
 "cells": [
  {
   "cell_type": "code",
   "execution_count": 1,
   "id": "c0e1feae",
   "metadata": {},
   "outputs": [],
   "source": [
    "# Pandas is used for data manipulation\n",
    "import pandas as pd\n",
    "import numpy as np\n",
    "from pmdarima import auto_arima\n",
    "import matplotlib.pyplot as plt"
   ]
  },
  {
   "cell_type": "code",
   "execution_count": 2,
   "id": "bde0217a",
   "metadata": {
    "scrolled": true
   },
   "outputs": [
    {
     "name": "stdout",
     "output_type": "stream",
     "text": [
      "            Tourist Arrival  Class\n",
      "Month                             \n",
      "2008-01-01           399556  Train\n",
      "2008-01-02           411032  Train\n",
      "2008-01-03           414332  Train\n",
      "2008-01-04           395900  Train\n",
      "2008-01-05           366387  Train\n",
      "...                     ...    ...\n",
      "2023-01-02           932969   Test\n",
      "2023-01-03           895425   Test\n",
      "2023-01-04           984146   Test\n",
      "2023-01-05           916257   Test\n",
      "2023-01-06           975010   Test\n",
      "\n",
      "[186 rows x 2 columns]\n"
     ]
    }
   ],
   "source": [
    "# Read in data and display fist 5 rows\n",
    "df = pd.read_csv('TIME SERIES - DATA COMPOSITION 1 (70-15-15).csv', index_col=\"Month\", parse_dates=True)\n",
    "print(df)"
   ]
  },
  {
   "cell_type": "code",
   "execution_count": 3,
   "id": "f887eac9",
   "metadata": {},
   "outputs": [
    {
     "name": "stdout",
     "output_type": "stream",
     "text": [
      "            Tourist Arrival\n",
      "Month                      \n",
      "2008-01-01           399556\n",
      "2008-01-02           411032\n",
      "2008-01-03           414332\n",
      "2008-01-04           395900\n",
      "2008-01-05           366387\n",
      "...                     ...\n",
      "2023-01-02           932969\n",
      "2023-01-03           895425\n",
      "2023-01-04           984146\n",
      "2023-01-05           916257\n",
      "2023-01-06           975010\n",
      "\n",
      "[186 rows x 1 columns]\n"
     ]
    }
   ],
   "source": [
    "df1=df.drop([\"Class\"], axis=1)\n",
    "print(df1)"
   ]
  },
  {
   "cell_type": "code",
   "execution_count": 4,
   "id": "ec057ec5",
   "metadata": {},
   "outputs": [],
   "source": [
    "train = df1.loc['01/01/2008':'01/09/2018']\n",
    "test = df1.loc['01/10/2018':]"
   ]
  },
  {
   "cell_type": "code",
   "execution_count": 5,
   "id": "ae00d347",
   "metadata": {},
   "outputs": [
    {
     "name": "stdout",
     "output_type": "stream",
     "text": [
      "Performing stepwise search to minimize aic\n",
      " ARIMA(1,1,1)(0,1,1)[12]             : AIC=4554.716, Time=0.88 sec\n",
      " ARIMA(0,1,0)(0,1,0)[12]             : AIC=4626.879, Time=0.03 sec\n",
      " ARIMA(1,1,0)(1,1,0)[12]             : AIC=4579.545, Time=0.12 sec\n",
      " ARIMA(0,1,1)(0,1,1)[12]             : AIC=4555.259, Time=0.17 sec\n",
      " ARIMA(1,1,1)(0,1,0)[12]             : AIC=4619.068, Time=0.06 sec\n",
      " ARIMA(1,1,1)(1,1,1)[12]             : AIC=4556.694, Time=0.28 sec\n",
      " ARIMA(1,1,1)(0,1,2)[12]             : AIC=4556.693, Time=0.80 sec\n",
      " ARIMA(1,1,1)(1,1,0)[12]             : AIC=4581.646, Time=0.15 sec\n",
      " ARIMA(1,1,1)(1,1,2)[12]             : AIC=4558.694, Time=0.71 sec\n",
      " ARIMA(1,1,0)(0,1,1)[12]             : AIC=4551.823, Time=0.12 sec\n",
      " ARIMA(1,1,0)(0,1,0)[12]             : AIC=4617.823, Time=0.03 sec\n",
      " ARIMA(1,1,0)(1,1,1)[12]             : AIC=4553.801, Time=0.16 sec\n",
      " ARIMA(1,1,0)(0,1,2)[12]             : AIC=4553.800, Time=0.45 sec\n",
      " ARIMA(1,1,0)(1,1,2)[12]             : AIC=4555.801, Time=0.50 sec\n",
      " ARIMA(0,1,0)(0,1,1)[12]             : AIC=4551.554, Time=0.08 sec\n",
      " ARIMA(0,1,0)(1,1,1)[12]             : AIC=4552.342, Time=0.11 sec\n",
      " ARIMA(0,1,0)(0,1,2)[12]             : AIC=4567.493, Time=0.34 sec\n",
      " ARIMA(0,1,0)(1,1,0)[12]             : AIC=4584.485, Time=0.06 sec\n",
      " ARIMA(0,1,0)(1,1,2)[12]             : AIC=4562.781, Time=0.37 sec\n",
      " ARIMA(0,1,0)(0,1,1)[12] intercept   : AIC=4565.669, Time=0.09 sec\n",
      "\n",
      "Best model:  ARIMA(0,1,0)(0,1,1)[12]          \n",
      "Total fit time: 5.547 seconds\n",
      "4551.553691444886\n"
     ]
    }
   ],
   "source": [
    "from pmdarima.arima import auto_arima\n",
    "stepwise_model = auto_arima(df1, start_p=1, start_q=1,\n",
    "                           max_p=3, max_q=3, m=12,\n",
    "                           start_P=0, seasonal=True,\n",
    "                           d=1, D=1, trace=True,\n",
    "                           error_action='ignore',  \n",
    "                           suppress_warnings=True, \n",
    "                           stepwise=True)\n",
    "print(stepwise_model.aic())"
   ]
  },
  {
   "cell_type": "code",
   "execution_count": 6,
   "id": "f6bec9fb",
   "metadata": {},
   "outputs": [],
   "source": [
    "train = df1.loc['01/01/2008':'01/09/2018']\n",
    "test = df1.loc['01/10/2018':]"
   ]
  },
  {
   "cell_type": "code",
   "execution_count": 7,
   "id": "4afa9531",
   "metadata": {},
   "outputs": [
    {
     "data": {
      "text/plain": [
       "ARIMA(order=(0, 1, 0), scoring_args={}, seasonal_order=(0, 1, 1, 12),\n",
       "      suppress_warnings=True, with_intercept=False)"
      ]
     },
     "execution_count": 7,
     "metadata": {},
     "output_type": "execute_result"
    }
   ],
   "source": [
    "stepwise_model.fit(train)"
   ]
  },
  {
   "cell_type": "code",
   "execution_count": 8,
   "id": "30dbb2a0",
   "metadata": {},
   "outputs": [
    {
     "name": "stdout",
     "output_type": "stream",
     "text": [
      "129    1.238694e+06\n",
      "130    1.343848e+06\n",
      "131    1.374414e+06\n",
      "132    1.469050e+06\n",
      "133    1.522431e+06\n",
      "134    1.425787e+06\n",
      "135    1.446777e+06\n",
      "136    1.347701e+06\n",
      "137    1.317945e+06\n",
      "138    1.374813e+06\n",
      "139    1.479383e+06\n",
      "140    1.361656e+06\n",
      "141    1.387753e+06\n",
      "142    1.492907e+06\n",
      "143    1.523472e+06\n",
      "144    1.618109e+06\n",
      "145    1.671489e+06\n",
      "146    1.574845e+06\n",
      "147    1.595836e+06\n",
      "148    1.496760e+06\n",
      "149    1.467003e+06\n",
      "150    1.523872e+06\n",
      "151    1.628441e+06\n",
      "152    1.510714e+06\n",
      "153    1.536811e+06\n",
      "154    1.641966e+06\n",
      "155    1.672531e+06\n",
      "156    1.767168e+06\n",
      "157    1.820548e+06\n",
      "158    1.723904e+06\n",
      "159    1.744894e+06\n",
      "160    1.645818e+06\n",
      "161    1.616062e+06\n",
      "162    1.672931e+06\n",
      "163    1.777500e+06\n",
      "164    1.659773e+06\n",
      "165    1.685870e+06\n",
      "166    1.791024e+06\n",
      "167    1.821589e+06\n",
      "168    1.916226e+06\n",
      "169    1.969606e+06\n",
      "170    1.872963e+06\n",
      "171    1.893953e+06\n",
      "172    1.794877e+06\n",
      "173    1.765121e+06\n",
      "174    1.821989e+06\n",
      "175    1.926559e+06\n",
      "176    1.808831e+06\n",
      "177    1.834928e+06\n",
      "178    1.940083e+06\n",
      "179    1.970648e+06\n",
      "180    2.065285e+06\n",
      "181    2.118665e+06\n",
      "182    2.022021e+06\n",
      "183    2.043011e+06\n",
      "184    1.943936e+06\n",
      "185    1.914179e+06\n",
      "dtype: float64\n"
     ]
    },
    {
     "name": "stderr",
     "output_type": "stream",
     "text": [
      "/opt/anaconda3/lib/python3.9/site-packages/statsmodels/tsa/base/tsa_model.py:834: ValueWarning: No supported index is available. Prediction results will be given with an integer index beginning at `start`.\n",
      "  return get_prediction_index(\n"
     ]
    }
   ],
   "source": [
    "y_pred = stepwise_model.predict(n_periods=len(test))\n",
    "print(y_pred)"
   ]
  },
  {
   "cell_type": "code",
   "execution_count": 9,
   "id": "2c4816a6",
   "metadata": {},
   "outputs": [],
   "source": [
    "from math import sqrt\n",
    "import numpy as np\n",
    "from sklearn.metrics import mean_squared_error\n",
    "from sklearn.metrics import mean_absolute_error \n",
    "from sklearn.metrics import mean_absolute_percentage_error"
   ]
  },
  {
   "cell_type": "code",
   "execution_count": 10,
   "id": "7c0a4066",
   "metadata": {},
   "outputs": [
    {
     "name": "stdout",
     "output_type": "stream",
     "text": [
      "Root Mean Squared Error: 1310584.677659543\n"
     ]
    }
   ],
   "source": [
    "RMSE = np.sqrt(mean_squared_error(test, y_pred))\n",
    "print(\"Root Mean Squared Error:\", RMSE)"
   ]
  },
  {
   "cell_type": "code",
   "execution_count": 11,
   "id": "7300160c",
   "metadata": {},
   "outputs": [
    {
     "name": "stdout",
     "output_type": "stream",
     "text": [
      "Mean Absolute Error: 1117999.7183150603\n"
     ]
    }
   ],
   "source": [
    "MAE = mean_absolute_error(test, y_pred)\n",
    "print(\"Mean Absolute Error:\", MAE)"
   ]
  },
  {
   "cell_type": "code",
   "execution_count": 12,
   "id": "8aed24a4",
   "metadata": {},
   "outputs": [
    {
     "name": "stdout",
     "output_type": "stream",
     "text": [
      "Mean Absolute Percentage Error: 2.4642117626960643e+21\n"
     ]
    }
   ],
   "source": [
    "MAPE = mean_absolute_percentage_error(test, y_pred)\n",
    "print(\"Mean Absolute Percentage Error:\", MAPE)"
   ]
  },
  {
   "cell_type": "code",
   "execution_count": 13,
   "id": "f82bd6fa",
   "metadata": {},
   "outputs": [
    {
     "name": "stdout",
     "output_type": "stream",
     "text": [
      "SMAPE : Tourist Arrival    0.0\n",
      "129                0.0\n",
      "130                0.0\n",
      "131                0.0\n",
      "132                0.0\n",
      "133                0.0\n",
      "134                0.0\n",
      "135                0.0\n",
      "136                0.0\n",
      "137                0.0\n",
      "138                0.0\n",
      "139                0.0\n",
      "140                0.0\n",
      "141                0.0\n",
      "142                0.0\n",
      "143                0.0\n",
      "144                0.0\n",
      "145                0.0\n",
      "146                0.0\n",
      "147                0.0\n",
      "148                0.0\n",
      "149                0.0\n",
      "150                0.0\n",
      "151                0.0\n",
      "152                0.0\n",
      "153                0.0\n",
      "154                0.0\n",
      "155                0.0\n",
      "156                0.0\n",
      "157                0.0\n",
      "158                0.0\n",
      "159                0.0\n",
      "160                0.0\n",
      "161                0.0\n",
      "162                0.0\n",
      "163                0.0\n",
      "164                0.0\n",
      "165                0.0\n",
      "166                0.0\n",
      "167                0.0\n",
      "168                0.0\n",
      "169                0.0\n",
      "170                0.0\n",
      "171                0.0\n",
      "172                0.0\n",
      "173                0.0\n",
      "174                0.0\n",
      "175                0.0\n",
      "176                0.0\n",
      "177                0.0\n",
      "178                0.0\n",
      "179                0.0\n",
      "180                0.0\n",
      "181                0.0\n",
      "182                0.0\n",
      "183                0.0\n",
      "184                0.0\n",
      "185                0.0\n",
      "dtype: float64\n"
     ]
    }
   ],
   "source": [
    "def SMAPE(test, y_pred):\n",
    "    return 100/len(test) * np.sum(2 * np.abs(test - y_pred) / (np.abs(test) + np.abs(y_pred)))\n",
    "result = SMAPE(test, y_pred)\n",
    "print(\"SMAPE :\", result)"
   ]
  },
  {
   "cell_type": "code",
   "execution_count": 14,
   "id": "ba57e488",
   "metadata": {},
   "outputs": [
    {
     "name": "stdout",
     "output_type": "stream",
     "text": [
      "RMSPE : nan\n"
     ]
    },
    {
     "name": "stderr",
     "output_type": "stream",
     "text": [
      "/var/folders/w4/3f8pkphx2j78qktgvt5lpdvw0000gn/T/ipykernel_10328/1017728051.py:2: RuntimeWarning: Mean of empty slice\n",
      "  return np.sqrt(np.nanmean(np.square(((test - y_pred) / test))))*100\n"
     ]
    }
   ],
   "source": [
    "def RMSPE(test, y_pred):\n",
    "    return np.sqrt(np.nanmean(np.square(((test - y_pred) / test))))*100\n",
    "result1 = RMSPE(test, y_pred)\n",
    "print(\"RMSPE :\", result1)"
   ]
  },
  {
   "cell_type": "code",
   "execution_count": 15,
   "id": "e83152ab",
   "metadata": {},
   "outputs": [
    {
     "data": {
      "image/png": "[encoded data removed]",
      "text/plain": [
       "<Figure size 640x480 with 1 Axes>"
      ]
     },
     "metadata": {},
     "output_type": "display_data"
    }
   ],
   "source": [
    "x_ax = range(len(test))\n",
    "plt.plot(x_ax, test, label=\"The Real Number of Tourist Arrivals\")\n",
    "plt.plot(x_ax, y_pred, label=\"The Predicted Number of Tourist Arrivals\")\n",
    "plt.title(\"Tourist Arrivals Test and Predicted Data \\n SARIMA - Time Series - Data Composition 1 (70-30)\")\n",
    "plt.legend()\n",
    "plt.show()"
   ]
  },
  {
   "cell_type": "code",
   "execution_count": null,
   "id": "c2645e5c",
   "metadata": {},
   "outputs": [],
   "source": []
  }
 ],
 "metadata": {
  "kernelspec": {
   "display_name": "Python 3 (ipykernel)",
   "language": "python",
   "name": "python3"
  },
  "language_info": {
   "codemirror_mode": {
    "name": "ipython",
    "version": 3
   },
   "file_extension": ".py",
   "mimetype": "text/x-python",
   "name": "python",
   "nbconvert_exporter": "python",
   "pygments_lexer": "ipython3",
   "version": "3.9.13"
  }
 },
 "nbformat": 4,
 "nbformat_minor": 5
}
