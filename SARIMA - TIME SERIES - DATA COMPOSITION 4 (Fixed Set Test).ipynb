{
 "cells": [
  {
   "cell_type": "code",
   "execution_count": 1,
   "id": "c0e1feae",
   "metadata": {},
   "outputs": [],
   "source": [
    "# Pandas is used for data manipulation\n",
    "import pandas as pd\n",
    "import numpy as np\n",
    "from pmdarima import auto_arima\n",
    "import matplotlib.pyplot as plt"
   ]
  },
  {
   "cell_type": "code",
   "execution_count": 2,
   "id": "bde0217a",
   "metadata": {
    "scrolled": true
   },
   "outputs": [
    {
     "name": "stdout",
     "output_type": "stream",
     "text": [
      "            Tourist Arrival  Class\n",
      "Month                             \n",
      "2008-01-01           399556  Train\n",
      "2008-01-02           411032  Train\n",
      "2008-01-03           414332  Train\n",
      "2008-01-04           395900  Train\n",
      "2008-01-05           366387  Train\n",
      "...                     ...    ...\n",
      "2023-01-02           932969   Test\n",
      "2023-01-03           895425   Test\n",
      "2023-01-04           984146   Test\n",
      "2023-01-05           916257   Test\n",
      "2023-01-06           975010   Test\n",
      "\n",
      "[186 rows x 2 columns]\n"
     ]
    }
   ],
   "source": [
    "# Read in data and display fist 5 rows\n",
    "df = pd.read_csv('TIME SERIES - DATA COMPOSITION 4 (Fixed Test Set).csv', index_col=\"Month\", parse_dates=True)\n",
    "print(df)"
   ]
  },
  {
   "cell_type": "code",
   "execution_count": 3,
   "id": "f887eac9",
   "metadata": {},
   "outputs": [
    {
     "name": "stdout",
     "output_type": "stream",
     "text": [
      "            Tourist Arrival\n",
      "Month                      \n",
      "2008-01-01           399556\n",
      "2008-01-02           411032\n",
      "2008-01-03           414332\n",
      "2008-01-04           395900\n",
      "2008-01-05           366387\n",
      "...                     ...\n",
      "2023-01-02           932969\n",
      "2023-01-03           895425\n",
      "2023-01-04           984146\n",
      "2023-01-05           916257\n",
      "2023-01-06           975010\n",
      "\n",
      "[186 rows x 1 columns]\n"
     ]
    }
   ],
   "source": [
    "df1=df.drop([\"Class\"], axis=1)\n",
    "print(df1)"
   ]
  },
  {
   "cell_type": "code",
   "execution_count": 4,
   "id": "ec057ec5",
   "metadata": {},
   "outputs": [],
   "source": [
    "train = df1.loc['01/01/2008':'01/09/2018']\n",
    "test = df1.loc['01/10/2018':]"
   ]
  },
  {
   "cell_type": "code",
   "execution_count": 5,
   "id": "ae00d347",
   "metadata": {},
   "outputs": [
    {
     "name": "stdout",
     "output_type": "stream",
     "text": [
      "Performing stepwise search to minimize aic\n",
      " ARIMA(1,1,1)(0,1,1)[12]             : AIC=4777.194, Time=0.84 sec\n",
      " ARIMA(0,1,0)(0,1,0)[12]             : AIC=4834.611, Time=0.02 sec\n",
      " ARIMA(1,1,0)(1,1,0)[12]             : AIC=4810.200, Time=0.09 sec\n",
      " ARIMA(0,1,1)(0,1,1)[12]             : AIC=4776.040, Time=0.14 sec\n",
      " ARIMA(0,1,1)(0,1,0)[12]             : AIC=4836.110, Time=0.03 sec\n",
      " ARIMA(0,1,1)(1,1,1)[12]             : AIC=4777.940, Time=0.15 sec\n",
      " ARIMA(0,1,1)(0,1,2)[12]             : AIC=4777.902, Time=0.34 sec\n",
      " ARIMA(0,1,1)(1,1,0)[12]             : AIC=4810.745, Time=0.07 sec\n",
      " ARIMA(0,1,1)(1,1,2)[12]             : AIC=4779.969, Time=1.13 sec\n",
      " ARIMA(0,1,0)(0,1,1)[12]             : AIC=4763.324, Time=0.07 sec\n",
      " ARIMA(0,1,0)(1,1,1)[12]             : AIC=4765.152, Time=0.11 sec\n",
      " ARIMA(0,1,0)(0,1,2)[12]             : AIC=4774.230, Time=0.25 sec\n",
      " ARIMA(0,1,0)(1,1,0)[12]             : AIC=4805.891, Time=0.05 sec\n",
      " ARIMA(0,1,0)(1,1,2)[12]             : AIC=4773.320, Time=0.44 sec\n",
      " ARIMA(1,1,0)(0,1,1)[12]             : AIC=4774.719, Time=0.11 sec\n",
      " ARIMA(0,1,0)(0,1,1)[12] intercept   : AIC=4775.193, Time=0.10 sec\n",
      "\n",
      "Best model:  ARIMA(0,1,0)(0,1,1)[12]          \n",
      "Total fit time: 3.964 seconds\n",
      "4763.324462221232\n"
     ]
    }
   ],
   "source": [
    "from pmdarima.arima import auto_arima\n",
    "stepwise_model = auto_arima(df1, start_p=1, start_q=1,\n",
    "                           max_p=3, max_q=3, m=12,\n",
    "                           start_P=0, seasonal=True,\n",
    "                           d=1, D=1, trace=True,\n",
    "                           error_action='ignore',  \n",
    "                           suppress_warnings=True, \n",
    "                           stepwise=True)\n",
    "print(stepwise_model.aic())"
   ]
  },
  {
   "cell_type": "code",
   "execution_count": 6,
   "id": "f6bec9fb",
   "metadata": {},
   "outputs": [],
   "source": [
    "train = df1.loc['01/01/2008':'01/09/2018']\n",
    "test = df1.loc['01/10/2018':]"
   ]
  },
  {
   "cell_type": "code",
   "execution_count": 7,
   "id": "4afa9531",
   "metadata": {},
   "outputs": [
    {
     "data": {
      "text/plain": [
       "ARIMA(order=(0, 1, 0), scoring_args={}, seasonal_order=(0, 1, 1, 12),\n",
       "      suppress_warnings=True, with_intercept=False)"
      ]
     },
     "execution_count": 7,
     "metadata": {},
     "output_type": "execute_result"
    }
   ],
   "source": [
    "stepwise_model.fit(train)"
   ]
  },
  {
   "cell_type": "code",
   "execution_count": 8,
   "id": "30dbb2a0",
   "metadata": {},
   "outputs": [
    {
     "name": "stdout",
     "output_type": "stream",
     "text": [
      "129    1.239547e+06\n",
      "130    1.334414e+06\n",
      "131    1.336992e+06\n",
      "132    1.444189e+06\n",
      "133    1.489407e+06\n",
      "134    1.404842e+06\n",
      "135    1.301416e+06\n",
      "136    1.342200e+06\n",
      "137    1.306484e+06\n",
      "138    1.359536e+06\n",
      "139    1.447843e+06\n",
      "140    1.342632e+06\n",
      "141    1.369583e+06\n",
      "142    1.464449e+06\n",
      "143    1.467027e+06\n",
      "144    1.574224e+06\n",
      "145    1.619442e+06\n",
      "146    1.534878e+06\n",
      "147    1.431451e+06\n",
      "148    1.472235e+06\n",
      "149    1.436519e+06\n",
      "150    1.489571e+06\n",
      "151    1.577878e+06\n",
      "152    1.472668e+06\n",
      "153    1.499618e+06\n",
      "154    1.594485e+06\n",
      "155    1.597062e+06\n",
      "156    1.704259e+06\n",
      "157    1.749477e+06\n",
      "158    1.664913e+06\n",
      "159    1.561486e+06\n",
      "160    1.602271e+06\n",
      "161    1.566555e+06\n",
      "162    1.619607e+06\n",
      "163    1.707914e+06\n",
      "164    1.602703e+06\n",
      "165    1.629653e+06\n",
      "166    1.724520e+06\n",
      "167    1.727098e+06\n",
      "168    1.834294e+06\n",
      "169    1.879513e+06\n",
      "170    1.794948e+06\n",
      "171    1.691522e+06\n",
      "172    1.732306e+06\n",
      "173    1.696590e+06\n",
      "174    1.749642e+06\n",
      "175    1.837949e+06\n",
      "176    1.732738e+06\n",
      "177    1.759689e+06\n",
      "178    1.854555e+06\n",
      "179    1.857133e+06\n",
      "180    1.964330e+06\n",
      "181    2.009548e+06\n",
      "182    1.924983e+06\n",
      "183    1.821557e+06\n",
      "184    1.862341e+06\n",
      "185    1.826625e+06\n",
      "dtype: float64\n"
     ]
    },
    {
     "name": "stderr",
     "output_type": "stream",
     "text": [
      "/opt/anaconda3/lib/python3.9/site-packages/statsmodels/tsa/base/tsa_model.py:834: ValueWarning: No supported index is available. Prediction results will be given with an integer index beginning at `start`.\n",
      "  return get_prediction_index(\n"
     ]
    }
   ],
   "source": [
    "y_pred = stepwise_model.predict(n_periods=len(test))\n",
    "print(y_pred)"
   ]
  },
  {
   "cell_type": "code",
   "execution_count": 9,
   "id": "961d1576",
   "metadata": {},
   "outputs": [],
   "source": [
    "from math import sqrt\n",
    "import numpy as np\n",
    "from sklearn.metrics import mean_squared_error\n",
    "from sklearn.metrics import mean_absolute_error \n",
    "from sklearn.metrics import mean_absolute_percentage_error"
   ]
  },
  {
   "cell_type": "code",
   "execution_count": 10,
   "id": "2c802d05",
   "metadata": {},
   "outputs": [
    {
     "name": "stdout",
     "output_type": "stream",
     "text": [
      "Root Mean Squared Error: 1214298.0364241246\n"
     ]
    }
   ],
   "source": [
    "RMSE = np.sqrt(mean_squared_error(test, y_pred))\n",
    "print(\"Root Mean Squared Error:\", RMSE)"
   ]
  },
  {
   "cell_type": "code",
   "execution_count": 11,
   "id": "e2be96b6",
   "metadata": {},
   "outputs": [
    {
     "name": "stdout",
     "output_type": "stream",
     "text": [
      "Mean Absolute Error: 1046363.8858311672\n"
     ]
    }
   ],
   "source": [
    "MAE = mean_absolute_error(test, y_pred)\n",
    "print(\"Mean Absolute Error:\", MAE)"
   ]
  },
  {
   "cell_type": "code",
   "execution_count": 12,
   "id": "33223ac3",
   "metadata": {},
   "outputs": [
    {
     "name": "stdout",
     "output_type": "stream",
     "text": [
      "Mean Absolute Percentage Error: 2.2331221503712842e+21\n"
     ]
    }
   ],
   "source": [
    "MAPE = mean_absolute_percentage_error(test, y_pred)\n",
    "print(\"Mean Absolute Percentage Error:\", MAPE)"
   ]
  },
  {
   "cell_type": "code",
   "execution_count": 13,
   "id": "d23c7b4c",
   "metadata": {},
   "outputs": [
    {
     "name": "stdout",
     "output_type": "stream",
     "text": [
      "SMAPE : Tourist Arrival    0.0\n",
      "129                0.0\n",
      "130                0.0\n",
      "131                0.0\n",
      "132                0.0\n",
      "133                0.0\n",
      "134                0.0\n",
      "135                0.0\n",
      "136                0.0\n",
      "137                0.0\n",
      "138                0.0\n",
      "139                0.0\n",
      "140                0.0\n",
      "141                0.0\n",
      "142                0.0\n",
      "143                0.0\n",
      "144                0.0\n",
      "145                0.0\n",
      "146                0.0\n",
      "147                0.0\n",
      "148                0.0\n",
      "149                0.0\n",
      "150                0.0\n",
      "151                0.0\n",
      "152                0.0\n",
      "153                0.0\n",
      "154                0.0\n",
      "155                0.0\n",
      "156                0.0\n",
      "157                0.0\n",
      "158                0.0\n",
      "159                0.0\n",
      "160                0.0\n",
      "161                0.0\n",
      "162                0.0\n",
      "163                0.0\n",
      "164                0.0\n",
      "165                0.0\n",
      "166                0.0\n",
      "167                0.0\n",
      "168                0.0\n",
      "169                0.0\n",
      "170                0.0\n",
      "171                0.0\n",
      "172                0.0\n",
      "173                0.0\n",
      "174                0.0\n",
      "175                0.0\n",
      "176                0.0\n",
      "177                0.0\n",
      "178                0.0\n",
      "179                0.0\n",
      "180                0.0\n",
      "181                0.0\n",
      "182                0.0\n",
      "183                0.0\n",
      "184                0.0\n",
      "185                0.0\n",
      "dtype: float64\n"
     ]
    }
   ],
   "source": [
    "def SMAPE(test, y_pred):\n",
    "    return 100/len(test) * np.sum(2 * np.abs(test - y_pred) / (np.abs(test) + np.abs(y_pred)))\n",
    "result = SMAPE(test, y_pred)\n",
    "print(\"SMAPE :\", result)"
   ]
  },
  {
   "cell_type": "code",
   "execution_count": 14,
   "id": "a9d910bb",
   "metadata": {},
   "outputs": [
    {
     "name": "stdout",
     "output_type": "stream",
     "text": [
      "RMSPE : nan\n"
     ]
    },
    {
     "name": "stderr",
     "output_type": "stream",
     "text": [
      "/var/folders/w4/3f8pkphx2j78qktgvt5lpdvw0000gn/T/ipykernel_10412/1017728051.py:2: RuntimeWarning: Mean of empty slice\n",
      "  return np.sqrt(np.nanmean(np.square(((test - y_pred) / test))))*100\n"
     ]
    }
   ],
   "source": [
    "def RMSPE(test, y_pred):\n",
    "    return np.sqrt(np.nanmean(np.square(((test - y_pred) / test))))*100\n",
    "result1 = RMSPE(test, y_pred)\n",
    "print(\"RMSPE :\", result1)"
   ]
  },
  {
   "cell_type": "code",
   "execution_count": 15,
   "id": "e83152ab",
   "metadata": {
    "scrolled": true
   },
   "outputs": [
    {
     "data": {
      "image/png": "[encoded data removed]",
      "text/plain": [
       "<Figure size 640x480 with 1 Axes>"
      ]
     },
     "metadata": {},
     "output_type": "display_data"
    }
   ],
   "source": [
    "x_ax = range(len(test))\n",
    "plt.plot(x_ax, test, label=\"The Real Number of Tourist Arrivals\")\n",
    "plt.plot(x_ax, y_pred, label=\"The Predicted Number of Tourist Arrivals\")\n",
    "plt.title(\"Tourist Arrivals Test and Predicted Data \\n SARIMA - Time Series - Data Composition 4 (Fixed Set Test)\")\n",
    "plt.legend()\n",
    "plt.show()"
   ]
  },
  {
   "cell_type": "code",
   "execution_count": null,
   "id": "2bae4ae7",
   "metadata": {},
   "outputs": [],
   "source": []
  }
 ],
 "metadata": {
  "kernelspec": {
   "display_name": "Python 3 (ipykernel)",
   "language": "python",
   "name": "python3"
  },
  "language_info": {
   "codemirror_mode": {
    "name": "ipython",
    "version": 3
   },
   "file_extension": ".py",
   "mimetype": "text/x-python",
   "name": "python",
   "nbconvert_exporter": "python",
   "pygments_lexer": "ipython3",
   "version": "3.9.13"
  }
 },
 "nbformat": 4,
 "nbformat_minor": 5
}
