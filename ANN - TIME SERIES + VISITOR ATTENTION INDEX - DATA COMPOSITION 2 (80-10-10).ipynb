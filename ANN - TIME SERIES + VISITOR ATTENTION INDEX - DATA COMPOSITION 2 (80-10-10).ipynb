{
 "cells": [
  {
   "cell_type": "code",
   "execution_count": 1,
   "id": "9ecb0c33",
   "metadata": {},
   "outputs": [],
   "source": [
    "# Pandas is used for data manipulation\n",
    "import pandas as pd\n",
    "import numpy as np\n",
    "import matplotlib.pyplot as plt"
   ]
  },
  {
   "cell_type": "code",
   "execution_count": 2,
   "id": "226c6845",
   "metadata": {},
   "outputs": [
    {
     "data": {
      "text/html": [
       "<div>\n",
       "<style scoped>\n",
       "    .dataframe tbody tr th:only-of-type {\n",
       "        vertical-align: middle;\n",
       "    }\n",
       "\n",
       "    .dataframe tbody tr th {\n",
       "        vertical-align: top;\n",
       "    }\n",
       "\n",
       "    .dataframe thead th {\n",
       "        text-align: right;\n",
       "    }\n",
       "</style>\n",
       "<table border=\"1\" class=\"dataframe\">\n",
       "  <thead>\n",
       "    <tr style=\"text-align: right;\">\n",
       "      <th></th>\n",
       "      <th>Month</th>\n",
       "      <th>Tourist Arrival</th>\n",
       "      <th>Airbnb Vietnam</th>\n",
       "      <th>Vietnam restaurant</th>\n",
       "      <th>Shopping in Hanoi</th>\n",
       "      <th>Shopping in Ho Chi Minh</th>\n",
       "      <th>Vietnam tour</th>\n",
       "      <th>Skyscanner</th>\n",
       "      <th>Vietnam visa</th>\n",
       "      <th>Vietnam airport</th>\n",
       "      <th>...</th>\n",
       "      <th>Hoi An</th>\n",
       "      <th>Vietnam weather</th>\n",
       "      <th>Visa for Vietnam</th>\n",
       "      <th>Sgn airport</th>\n",
       "      <th>Phu Quoc</th>\n",
       "      <th>Vietnam itinerary</th>\n",
       "      <th>Vietnam trip</th>\n",
       "      <th>Things to do in Hue</th>\n",
       "      <th>Vietnam backpackers</th>\n",
       "      <th>Class</th>\n",
       "    </tr>\n",
       "  </thead>\n",
       "  <tbody>\n",
       "    <tr>\n",
       "      <th>0</th>\n",
       "      <td>01/01/2008</td>\n",
       "      <td>399556</td>\n",
       "      <td>11</td>\n",
       "      <td>59</td>\n",
       "      <td>32</td>\n",
       "      <td>8</td>\n",
       "      <td>58</td>\n",
       "      <td>7</td>\n",
       "      <td>69</td>\n",
       "      <td>52</td>\n",
       "      <td>...</td>\n",
       "      <td>27</td>\n",
       "      <td>58</td>\n",
       "      <td>29</td>\n",
       "      <td>18</td>\n",
       "      <td>20</td>\n",
       "      <td>0</td>\n",
       "      <td>32</td>\n",
       "      <td>0</td>\n",
       "      <td>8</td>\n",
       "      <td>Train</td>\n",
       "    </tr>\n",
       "    <tr>\n",
       "      <th>1</th>\n",
       "      <td>01/02/2008</td>\n",
       "      <td>411032</td>\n",
       "      <td>0</td>\n",
       "      <td>51</td>\n",
       "      <td>0</td>\n",
       "      <td>0</td>\n",
       "      <td>46</td>\n",
       "      <td>6</td>\n",
       "      <td>61</td>\n",
       "      <td>35</td>\n",
       "      <td>...</td>\n",
       "      <td>27</td>\n",
       "      <td>58</td>\n",
       "      <td>31</td>\n",
       "      <td>10</td>\n",
       "      <td>19</td>\n",
       "      <td>5</td>\n",
       "      <td>39</td>\n",
       "      <td>7</td>\n",
       "      <td>5</td>\n",
       "      <td>Train</td>\n",
       "    </tr>\n",
       "    <tr>\n",
       "      <th>2</th>\n",
       "      <td>01/03/2008</td>\n",
       "      <td>414332</td>\n",
       "      <td>0</td>\n",
       "      <td>57</td>\n",
       "      <td>7</td>\n",
       "      <td>24</td>\n",
       "      <td>58</td>\n",
       "      <td>6</td>\n",
       "      <td>61</td>\n",
       "      <td>51</td>\n",
       "      <td>...</td>\n",
       "      <td>27</td>\n",
       "      <td>50</td>\n",
       "      <td>29</td>\n",
       "      <td>38</td>\n",
       "      <td>28</td>\n",
       "      <td>6</td>\n",
       "      <td>30</td>\n",
       "      <td>0</td>\n",
       "      <td>0</td>\n",
       "      <td>Train</td>\n",
       "    </tr>\n",
       "    <tr>\n",
       "      <th>3</th>\n",
       "      <td>01/04/2008</td>\n",
       "      <td>395900</td>\n",
       "      <td>0</td>\n",
       "      <td>51</td>\n",
       "      <td>6</td>\n",
       "      <td>9</td>\n",
       "      <td>58</td>\n",
       "      <td>6</td>\n",
       "      <td>66</td>\n",
       "      <td>43</td>\n",
       "      <td>...</td>\n",
       "      <td>27</td>\n",
       "      <td>41</td>\n",
       "      <td>30</td>\n",
       "      <td>25</td>\n",
       "      <td>22</td>\n",
       "      <td>8</td>\n",
       "      <td>45</td>\n",
       "      <td>0</td>\n",
       "      <td>8</td>\n",
       "      <td>Train</td>\n",
       "    </tr>\n",
       "    <tr>\n",
       "      <th>4</th>\n",
       "      <td>01/05/2008</td>\n",
       "      <td>366387</td>\n",
       "      <td>0</td>\n",
       "      <td>57</td>\n",
       "      <td>0</td>\n",
       "      <td>7</td>\n",
       "      <td>57</td>\n",
       "      <td>6</td>\n",
       "      <td>63</td>\n",
       "      <td>46</td>\n",
       "      <td>...</td>\n",
       "      <td>27</td>\n",
       "      <td>44</td>\n",
       "      <td>24</td>\n",
       "      <td>16</td>\n",
       "      <td>22</td>\n",
       "      <td>5</td>\n",
       "      <td>47</td>\n",
       "      <td>0</td>\n",
       "      <td>9</td>\n",
       "      <td>Train</td>\n",
       "    </tr>\n",
       "  </tbody>\n",
       "</table>\n",
       "<p>5 rows × 22 columns</p>\n",
       "</div>"
      ],
      "text/plain": [
       "        Month  Tourist Arrival  Airbnb Vietnam  Vietnam restaurant  \\\n",
       "0  01/01/2008           399556              11                  59   \n",
       "1  01/02/2008           411032               0                  51   \n",
       "2  01/03/2008           414332               0                  57   \n",
       "3  01/04/2008           395900               0                  51   \n",
       "4  01/05/2008           366387               0                  57   \n",
       "\n",
       "   Shopping in Hanoi  Shopping in Ho Chi Minh  Vietnam tour  Skyscanner  \\\n",
       "0                 32                        8            58           7   \n",
       "1                  0                        0            46           6   \n",
       "2                  7                       24            58           6   \n",
       "3                  6                        9            58           6   \n",
       "4                  0                        7            57           6   \n",
       "\n",
       "   Vietnam visa  Vietnam airport  ...  Hoi An  Vietnam weather  \\\n",
       "0            69               52  ...      27               58   \n",
       "1            61               35  ...      27               58   \n",
       "2            61               51  ...      27               50   \n",
       "3            66               43  ...      27               41   \n",
       "4            63               46  ...      27               44   \n",
       "\n",
       "   Visa for Vietnam  Sgn airport  Phu Quoc  Vietnam itinerary  Vietnam trip  \\\n",
       "0                29           18        20                  0            32   \n",
       "1                31           10        19                  5            39   \n",
       "2                29           38        28                  6            30   \n",
       "3                30           25        22                  8            45   \n",
       "4                24           16        22                  5            47   \n",
       "\n",
       "   Things to do in Hue  Vietnam backpackers  Class  \n",
       "0                    0                    8  Train  \n",
       "1                    7                    5  Train  \n",
       "2                    0                    0  Train  \n",
       "3                    0                    8  Train  \n",
       "4                    0                    9  Train  \n",
       "\n",
       "[5 rows x 22 columns]"
      ]
     },
     "execution_count": 2,
     "metadata": {},
     "output_type": "execute_result"
    }
   ],
   "source": [
    "# Read in data and display fist 5 rows\n",
    "df = pd.read_csv('TIME SERIES + VISITOR ATTENTION INDEX - DATA COMPOSITION 2 (80-10-10).csv')\n",
    "df.head(5)"
   ]
  },
  {
   "cell_type": "code",
   "execution_count": 3,
   "id": "193a8024",
   "metadata": {},
   "outputs": [],
   "source": [
    "import datetime\n",
    "df['Month'] = pd.to_datetime(df['Month'])\n",
    "df['Month'] = df['Month'].dt.strftime('%d.%m.%Y')\n",
    "df['Month'] = pd.DatetimeIndex(df['Month']).dayofyear"
   ]
  },
  {
   "cell_type": "code",
   "execution_count": 4,
   "id": "b62311a7",
   "metadata": {},
   "outputs": [],
   "source": [
    "x=df.drop('Tourist Arrival', axis=1)\n",
    "y=df['Tourist Arrival']"
   ]
  },
  {
   "cell_type": "code",
   "execution_count": 5,
   "id": "2ec62709",
   "metadata": {},
   "outputs": [
    {
     "name": "stdout",
     "output_type": "stream",
     "text": [
      "(148, 22)\n",
      "(19, 22)\n",
      "(19, 22)\n"
     ]
    }
   ],
   "source": [
    "train = df[df[\"Class\"] == \"Train\"]\n",
    "validation = df[df[\"Class\"] == \"Validation\"]\n",
    "test = df[df[\"Class\"] == \"Test\"]\n",
    "print(train.shape)\n",
    "print(validation.shape)\n",
    "print(test.shape)"
   ]
  },
  {
   "cell_type": "code",
   "execution_count": 6,
   "id": "9be894a2",
   "metadata": {},
   "outputs": [],
   "source": [
    "train = train.drop(['Class'], axis=1)\n",
    "validation = validation.drop(['Class'], axis=1)\n",
    "test = test.drop(['Class'], axis=1)"
   ]
  },
  {
   "cell_type": "code",
   "execution_count": 7,
   "id": "dc413a17",
   "metadata": {},
   "outputs": [
    {
     "name": "stdout",
     "output_type": "stream",
     "text": [
      "(148, 20)\n",
      "(148, 1)\n"
     ]
    }
   ],
   "source": [
    "target_column_train = ['Tourist Arrival']\n",
    "predictors_train = list(set(list(train.columns))-set(target_column_train))\n",
    "\n",
    "x_train = train[predictors_train].values\n",
    "y_train = train[target_column_train].values\n",
    "\n",
    "\n",
    "print(x_train.shape)\n",
    "print(y_train.shape)"
   ]
  },
  {
   "cell_type": "code",
   "execution_count": 8,
   "id": "f0802c44",
   "metadata": {},
   "outputs": [
    {
     "name": "stdout",
     "output_type": "stream",
     "text": [
      "(19, 20)\n",
      "(19, 1)\n"
     ]
    }
   ],
   "source": [
    "target_column_validation = ['Tourist Arrival'] \n",
    "predictors_validation = list(set(list(validation.columns))-set(target_column_validation))\n",
    "\n",
    "x_validation = validation[predictors_validation].values\n",
    "y_validation = validation[target_column_validation].values\n",
    "\n",
    "print(x_validation.shape)\n",
    "print(y_validation.shape)"
   ]
  },
  {
   "cell_type": "code",
   "execution_count": 9,
   "id": "92ca07dd",
   "metadata": {},
   "outputs": [
    {
     "name": "stdout",
     "output_type": "stream",
     "text": [
      "(19, 20)\n",
      "(19, 1)\n"
     ]
    }
   ],
   "source": [
    "target_column_test = ['Tourist Arrival'] \n",
    "predictors_test = list(set(list(test.columns))-set(target_column_test))\n",
    "\n",
    "x_test = test[predictors_test].values\n",
    "y_test = test[target_column_test].values\n",
    "\n",
    "print(x_test.shape)\n",
    "print(y_test.shape)"
   ]
  },
  {
   "cell_type": "code",
   "execution_count": 10,
   "id": "1cb10b48",
   "metadata": {},
   "outputs": [
    {
     "name": "stderr",
     "output_type": "stream",
     "text": [
      "/opt/anaconda3/lib/python3.9/site-packages/sklearn/neural_network/_multilayer_perceptron.py:1599: DataConversionWarning: A column-vector y was passed when a 1d array was expected. Please change the shape of y to (n_samples, ), for example using ravel().\n",
      "  y = column_or_1d(y, warn=True)\n",
      "/opt/anaconda3/lib/python3.9/site-packages/sklearn/neural_network/_multilayer_perceptron.py:692: ConvergenceWarning: Stochastic Optimizer: Maximum iterations (10000) reached and the optimization hasn't converged yet.\n",
      "  warnings.warn(\n"
     ]
    },
    {
     "data": {
      "text/plain": [
       "MLPRegressor(hidden_layer_sizes=10, max_iter=10000, random_state=9876,\n",
       "             shuffle=False)"
      ]
     },
     "execution_count": 10,
     "metadata": {},
     "output_type": "execute_result"
    }
   ],
   "source": [
    "from sklearn.neural_network import MLPRegressor\n",
    "nn = MLPRegressor(solver='adam',\n",
    "                  hidden_layer_sizes=10,\n",
    "                  max_iter=10000,\n",
    "                  learning_rate='constant',\n",
    "                  shuffle=False,\n",
    "                  random_state=9876,\n",
    "                  activation='relu')\n",
    "nn.fit(x_train, y_train)"
   ]
  },
  {
   "cell_type": "code",
   "execution_count": 28,
   "id": "5e922766",
   "metadata": {},
   "outputs": [],
   "source": [
    "params = {'solver': ['lbfgs', 'sgd', 'adam'],\n",
    "          'hidden_layer_sizes': [10,20,30,40,50],\n",
    "          'learning_rate': ['constant', 'invscaling', 'adaptive'],\n",
    "          'shuffle': [True, False],\n",
    "          'activation': ['identity', 'logistic', 'tanh', 'relu']}"
   ]
  },
  {
   "cell_type": "code",
   "execution_count": null,
   "id": "ecf46d74",
   "metadata": {},
   "outputs": [],
   "source": [
    "from sklearn.model_selection import GridSearchCV\n",
    "gs=GridSearchCV(estimator=nn, param_grid=params, cv=10)"
   ]
  },
  {
   "cell_type": "code",
   "execution_count": null,
   "id": "7c87945d",
   "metadata": {},
   "outputs": [],
   "source": [
    "gs=gs.fit(x_train, y_train)"
   ]
  },
  {
   "cell_type": "code",
   "execution_count": null,
   "id": "599b424d",
   "metadata": {},
   "outputs": [],
   "source": [
    "best_params=gs.best_params_"
   ]
  },
  {
   "cell_type": "code",
   "execution_count": 11,
   "id": "2251c084",
   "metadata": {},
   "outputs": [],
   "source": [
    "import numpy as np\n",
    "from sklearn.metrics import mean_squared_error\n",
    "from sklearn.metrics import mean_absolute_error \n",
    "from sklearn.metrics import mean_absolute_percentage_error"
   ]
  },
  {
   "cell_type": "code",
   "execution_count": 12,
   "id": "16966cf8",
   "metadata": {},
   "outputs": [
    {
     "name": "stdout",
     "output_type": "stream",
     "text": [
      "[ 429597.59382527  290783.02693797  357515.75162055  449416.86269303\n",
      "  574854.47097698  633707.6184145   741931.54652654  831493.87860859\n",
      "  854304.31104686  908592.0494483   940872.32697128 1014889.76099135\n",
      " 1038734.37985738  940106.92034583  951451.62143833  931476.45689485\n",
      "  985276.67075444  976152.16365763  985015.61180701]\n"
     ]
    }
   ],
   "source": [
    "y_pred=nn.predict(x_test)\n",
    "print(y_pred)"
   ]
  },
  {
   "cell_type": "code",
   "execution_count": 13,
   "id": "114acdec",
   "metadata": {},
   "outputs": [
    {
     "name": "stdout",
     "output_type": "stream",
     "text": [
      "Root Mean Squared Error: 364091.95079818636\n"
     ]
    }
   ],
   "source": [
    "RMSE = np.sqrt(mean_squared_error(y_test, y_pred))\n",
    "print(\"Root Mean Squared Error:\", RMSE)"
   ]
  },
  {
   "cell_type": "code",
   "execution_count": 14,
   "id": "a08a4984",
   "metadata": {},
   "outputs": [
    {
     "name": "stdout",
     "output_type": "stream",
     "text": [
      "Mean Absolute Error: 306215.0012008786\n"
     ]
    }
   ],
   "source": [
    "MAE = mean_absolute_error(y_test, y_pred)\n",
    "print(\"Mean Absolute Error:\", MAE)"
   ]
  },
  {
   "cell_type": "code",
   "execution_count": 15,
   "id": "2e615fca",
   "metadata": {},
   "outputs": [
    {
     "name": "stdout",
     "output_type": "stream",
     "text": [
      "Mean Absolute Percentage Error: 24.4113399372564\n"
     ]
    }
   ],
   "source": [
    "MAPE = mean_absolute_percentage_error(y_test, y_pred)\n",
    "print(\"Mean Absolute Percentage Error:\", MAPE)"
   ]
  },
  {
   "cell_type": "code",
   "execution_count": 16,
   "id": "e306dcc3",
   "metadata": {},
   "outputs": [
    {
     "name": "stdout",
     "output_type": "stream",
     "text": [
      "SMAPE : 1670.772808126708\n"
     ]
    }
   ],
   "source": [
    "def SMAPE(y_test,y_pred):\n",
    "    return 100/len(y_test) * np.sum(2 * np.abs(y_pred - y_test) / (np.abs(y_test) + np.abs(y_pred)))\n",
    "result = SMAPE(y_test,y_pred)\n",
    "print(\"SMAPE :\", result)"
   ]
  },
  {
   "cell_type": "code",
   "execution_count": 17,
   "id": "dc042c73",
   "metadata": {},
   "outputs": [
    {
     "name": "stdout",
     "output_type": "stream",
     "text": [
      "RMSPE : 13865.230916175535\n"
     ]
    }
   ],
   "source": [
    "def RMSPE(y_test, y_pred):\n",
    "    return np.sqrt(np.nanmean(np.square(((y_test - y_pred) / y_test))))*100\n",
    "result1 = RMSPE(y_test,y_pred)\n",
    "print(\"RMSPE :\", result1)"
   ]
  },
  {
   "cell_type": "code",
   "execution_count": 18,
   "id": "dad4e8fe",
   "metadata": {},
   "outputs": [
    {
     "data": {
      "image/png": "[encoded data removed]",
      "text/plain": [
       "<Figure size 640x480 with 1 Axes>"
      ]
     },
     "metadata": {},
     "output_type": "display_data"
    }
   ],
   "source": [
    "x_ax = range(len(y_test))\n",
    "plt.plot(x_ax, y_test, label=\"The Real Number of Tourist Arrivals\")\n",
    "plt.plot(x_ax, y_pred, label=\"The Predicted Number of Tourist Arrivals\")\n",
    "plt.title(\"Tourist Arrivals Test and Predicted Data \\n ANN - Time Series + Visitor Attention - Data Composition 2 (80-10-10)\")\n",
    "plt.legend()\n",
    "plt.show()"
   ]
  },
  {
   "cell_type": "code",
   "execution_count": null,
   "id": "000f375d",
   "metadata": {},
   "outputs": [],
   "source": []
  }
 ],
 "metadata": {
  "kernelspec": {
   "display_name": "Python 3 (ipykernel)",
   "language": "python",
   "name": "python3"
  },
  "language_info": {
   "codemirror_mode": {
    "name": "ipython",
    "version": 3
   },
   "file_extension": ".py",
   "mimetype": "text/x-python",
   "name": "python",
   "nbconvert_exporter": "python",
   "pygments_lexer": "ipython3",
   "version": "3.9.13"
  }
 },
 "nbformat": 4,
 "nbformat_minor": 5
}
