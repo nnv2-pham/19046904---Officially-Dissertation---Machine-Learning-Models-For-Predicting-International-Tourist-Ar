{
 "cells": [
  {
   "cell_type": "code",
   "execution_count": 1,
   "id": "c0e1feae",
   "metadata": {},
   "outputs": [],
   "source": [
    "# Pandas is used for data manipulation\n",
    "import pandas as pd\n",
    "import numpy as np\n",
    "from pmdarima import auto_arima\n",
    "import matplotlib.pyplot as plt"
   ]
  },
  {
   "cell_type": "code",
   "execution_count": 2,
   "id": "bde0217a",
   "metadata": {
    "scrolled": true
   },
   "outputs": [
    {
     "name": "stdout",
     "output_type": "stream",
     "text": [
      "            Tourist Arrival  Class\n",
      "Month                             \n",
      "2008-01-01           399556  Train\n",
      "2008-01-02           411032  Train\n",
      "2008-01-03           414332  Train\n",
      "2008-01-04           395900  Train\n",
      "2008-01-05           366387  Train\n",
      "...                     ...    ...\n",
      "2023-01-02           932969   Test\n",
      "2023-01-03           895425   Test\n",
      "2023-01-04           984146   Test\n",
      "2023-01-05           916257   Test\n",
      "2023-01-06           975010   Test\n",
      "\n",
      "[186 rows x 2 columns]\n"
     ]
    }
   ],
   "source": [
    "# Read in data and display fist 5 rows\n",
    "df = pd.read_csv('TIME SERIES - DATA COMPOSITION 2 (80-10-10).csv', index_col=\"Month\", parse_dates=True)\n",
    "print(df)"
   ]
  },
  {
   "cell_type": "code",
   "execution_count": 3,
   "id": "f887eac9",
   "metadata": {},
   "outputs": [
    {
     "name": "stdout",
     "output_type": "stream",
     "text": [
      "            Tourist Arrival\n",
      "Month                      \n",
      "2008-01-01           399556\n",
      "2008-01-02           411032\n",
      "2008-01-03           414332\n",
      "2008-01-04           395900\n",
      "2008-01-05           366387\n",
      "...                     ...\n",
      "2023-01-02           932969\n",
      "2023-01-03           895425\n",
      "2023-01-04           984146\n",
      "2023-01-05           916257\n",
      "2023-01-06           975010\n",
      "\n",
      "[186 rows x 1 columns]\n"
     ]
    }
   ],
   "source": [
    "df1=df.drop([\"Class\"], axis=1)\n",
    "print(df1)"
   ]
  },
  {
   "cell_type": "code",
   "execution_count": 4,
   "id": "f6bec9fb",
   "metadata": {},
   "outputs": [],
   "source": [
    "train = df1.loc['01/01/2008':'01/04/2020']\n",
    "test = df1.loc['01/05/2020':]"
   ]
  },
  {
   "cell_type": "code",
   "execution_count": 5,
   "id": "ae00d347",
   "metadata": {},
   "outputs": [
    {
     "name": "stdout",
     "output_type": "stream",
     "text": [
      "Performing stepwise search to minimize aic\n",
      " ARIMA(1,1,1)(0,1,1)[12]             : AIC=4554.716, Time=0.89 sec\n",
      " ARIMA(0,1,0)(0,1,0)[12]             : AIC=4626.879, Time=0.02 sec\n",
      " ARIMA(1,1,0)(1,1,0)[12]             : AIC=4579.545, Time=0.09 sec\n",
      " ARIMA(0,1,1)(0,1,1)[12]             : AIC=4555.259, Time=0.12 sec\n",
      " ARIMA(1,1,1)(0,1,0)[12]             : AIC=4619.068, Time=0.05 sec\n",
      " ARIMA(1,1,1)(1,1,1)[12]             : AIC=4556.694, Time=0.20 sec\n",
      " ARIMA(1,1,1)(0,1,2)[12]             : AIC=4556.693, Time=0.75 sec\n",
      " ARIMA(1,1,1)(1,1,0)[12]             : AIC=4581.646, Time=0.17 sec\n",
      " ARIMA(1,1,1)(1,1,2)[12]             : AIC=4558.694, Time=0.73 sec\n",
      " ARIMA(1,1,0)(0,1,1)[12]             : AIC=4551.823, Time=0.11 sec\n",
      " ARIMA(1,1,0)(0,1,0)[12]             : AIC=4617.823, Time=0.04 sec\n",
      " ARIMA(1,1,0)(1,1,1)[12]             : AIC=4553.801, Time=0.18 sec\n",
      " ARIMA(1,1,0)(0,1,2)[12]             : AIC=4553.800, Time=0.46 sec\n",
      " ARIMA(1,1,0)(1,1,2)[12]             : AIC=4555.801, Time=0.54 sec\n",
      " ARIMA(0,1,0)(0,1,1)[12]             : AIC=4551.554, Time=0.09 sec\n",
      " ARIMA(0,1,0)(1,1,1)[12]             : AIC=4552.342, Time=0.11 sec\n",
      " ARIMA(0,1,0)(0,1,2)[12]             : AIC=4567.493, Time=0.38 sec\n",
      " ARIMA(0,1,0)(1,1,0)[12]             : AIC=4584.485, Time=0.06 sec\n",
      " ARIMA(0,1,0)(1,1,2)[12]             : AIC=4562.781, Time=0.34 sec\n",
      " ARIMA(0,1,0)(0,1,1)[12] intercept   : AIC=4565.669, Time=0.09 sec\n",
      "\n",
      "Best model:  ARIMA(0,1,0)(0,1,1)[12]          \n",
      "Total fit time: 5.436 seconds\n",
      "4551.553691444886\n"
     ]
    }
   ],
   "source": [
    "from pmdarima.arima import auto_arima\n",
    "stepwise_model = auto_arima(df1, start_p=1, start_q=1,\n",
    "                           max_p=3, max_q=3, m=12,\n",
    "                           start_P=0, seasonal=True,\n",
    "                           d=1, D=1, trace=True,\n",
    "                           error_action='ignore',  \n",
    "                           suppress_warnings=True, \n",
    "                           stepwise=True)\n",
    "print(stepwise_model.aic())"
   ]
  },
  {
   "cell_type": "code",
   "execution_count": 6,
   "id": "4afa9531",
   "metadata": {},
   "outputs": [
    {
     "data": {
      "text/plain": [
       "ARIMA(order=(0, 1, 0), scoring_args={}, seasonal_order=(0, 1, 1, 12),\n",
       "      suppress_warnings=True, with_intercept=False)"
      ]
     },
     "execution_count": 6,
     "metadata": {},
     "output_type": "execute_result"
    }
   ],
   "source": [
    "stepwise_model.fit(train)"
   ]
  },
  {
   "cell_type": "code",
   "execution_count": 7,
   "id": "30dbb2a0",
   "metadata": {},
   "outputs": [
    {
     "name": "stdout",
     "output_type": "stream",
     "text": [
      "148   -1.292367e+05\n",
      "149   -1.992575e+05\n",
      "150   -1.128256e+05\n",
      "151    4.105320e+04\n",
      "152   -1.367130e+04\n",
      "153    1.749156e+04\n",
      "154    1.609622e+05\n",
      "155    1.503128e+05\n",
      "156    3.379892e+05\n",
      "157    5.979401e+04\n",
      "158   -3.549392e+05\n",
      "159   -5.247790e+05\n",
      "160   -6.540157e+05\n",
      "161   -7.240365e+05\n",
      "162   -6.376046e+05\n",
      "163   -4.837258e+05\n",
      "164   -5.384503e+05\n",
      "165   -5.072874e+05\n",
      "166   -3.638168e+05\n",
      "167   -3.744662e+05\n",
      "168   -1.867898e+05\n",
      "169   -4.649850e+05\n",
      "170   -8.797182e+05\n",
      "171   -1.049558e+06\n",
      "172   -1.178795e+06\n",
      "173   -1.248816e+06\n",
      "174   -1.162384e+06\n",
      "175   -1.008505e+06\n",
      "176   -1.063229e+06\n",
      "177   -1.032066e+06\n",
      "178   -8.885958e+05\n",
      "179   -8.992451e+05\n",
      "180   -7.115688e+05\n",
      "181   -9.897640e+05\n",
      "182   -1.404497e+06\n",
      "183   -1.574337e+06\n",
      "184   -1.703574e+06\n",
      "185   -1.773595e+06\n",
      "dtype: float64\n"
     ]
    },
    {
     "name": "stderr",
     "output_type": "stream",
     "text": [
      "/opt/anaconda3/lib/python3.9/site-packages/statsmodels/tsa/base/tsa_model.py:834: ValueWarning: No supported index is available. Prediction results will be given with an integer index beginning at `start`.\n",
      "  return get_prediction_index(\n"
     ]
    }
   ],
   "source": [
    "y_pred = stepwise_model.predict(n_periods=len(test))\n",
    "print(y_pred)"
   ]
  },
  {
   "cell_type": "code",
   "execution_count": 8,
   "id": "3ffca761",
   "metadata": {},
   "outputs": [],
   "source": [
    "from math import sqrt\n",
    "import numpy as np\n",
    "from sklearn.metrics import mean_squared_error\n",
    "from sklearn.metrics import mean_absolute_error \n",
    "from sklearn.metrics import mean_absolute_percentage_error"
   ]
  },
  {
   "cell_type": "code",
   "execution_count": 9,
   "id": "6372f5c0",
   "metadata": {},
   "outputs": [
    {
     "name": "stdout",
     "output_type": "stream",
     "text": [
      "Root Mean Squared Error: 1206965.8582293512\n"
     ]
    }
   ],
   "source": [
    "RMSE = np.sqrt(mean_squared_error(test, y_pred))\n",
    "print(\"Root Mean Squared Error:\", RMSE)"
   ]
  },
  {
   "cell_type": "code",
   "execution_count": 10,
   "id": "7d4fe23c",
   "metadata": {},
   "outputs": [
    {
     "name": "stdout",
     "output_type": "stream",
     "text": [
      "Mean Absolute Error: 911163.8124636374\n"
     ]
    }
   ],
   "source": [
    "MAE = mean_absolute_error(test, y_pred)\n",
    "print(\"Mean Absolute Error:\", MAE)"
   ]
  },
  {
   "cell_type": "code",
   "execution_count": 11,
   "id": "1c5a91ad",
   "metadata": {},
   "outputs": [
    {
     "name": "stdout",
     "output_type": "stream",
     "text": [
      "Mean Absolute Percentage Error: 6.693098898677853e+20\n"
     ]
    }
   ],
   "source": [
    "MAPE = mean_absolute_percentage_error(test, y_pred)\n",
    "print(\"Mean Absolute Percentage Error:\", MAPE)"
   ]
  },
  {
   "cell_type": "code",
   "execution_count": 12,
   "id": "04a728dd",
   "metadata": {},
   "outputs": [
    {
     "name": "stdout",
     "output_type": "stream",
     "text": [
      "SMAPE : Tourist Arrival    0.0\n",
      "148                0.0\n",
      "149                0.0\n",
      "150                0.0\n",
      "151                0.0\n",
      "152                0.0\n",
      "153                0.0\n",
      "154                0.0\n",
      "155                0.0\n",
      "156                0.0\n",
      "157                0.0\n",
      "158                0.0\n",
      "159                0.0\n",
      "160                0.0\n",
      "161                0.0\n",
      "162                0.0\n",
      "163                0.0\n",
      "164                0.0\n",
      "165                0.0\n",
      "166                0.0\n",
      "167                0.0\n",
      "168                0.0\n",
      "169                0.0\n",
      "170                0.0\n",
      "171                0.0\n",
      "172                0.0\n",
      "173                0.0\n",
      "174                0.0\n",
      "175                0.0\n",
      "176                0.0\n",
      "177                0.0\n",
      "178                0.0\n",
      "179                0.0\n",
      "180                0.0\n",
      "181                0.0\n",
      "182                0.0\n",
      "183                0.0\n",
      "184                0.0\n",
      "185                0.0\n",
      "dtype: float64\n"
     ]
    }
   ],
   "source": [
    "def SMAPE(test, y_pred):\n",
    "    return 100/len(test) * np.sum(2 * np.abs(test - y_pred) / (np.abs(test) + np.abs(y_pred)))\n",
    "result = SMAPE(test, y_pred)\n",
    "print(\"SMAPE :\", result)"
   ]
  },
  {
   "cell_type": "code",
   "execution_count": 13,
   "id": "46d00107",
   "metadata": {},
   "outputs": [
    {
     "name": "stdout",
     "output_type": "stream",
     "text": [
      "RMSPE : nan\n"
     ]
    },
    {
     "name": "stderr",
     "output_type": "stream",
     "text": [
      "/var/folders/w4/3f8pkphx2j78qktgvt5lpdvw0000gn/T/ipykernel_10333/1017728051.py:2: RuntimeWarning: Mean of empty slice\n",
      "  return np.sqrt(np.nanmean(np.square(((test - y_pred) / test))))*100\n"
     ]
    }
   ],
   "source": [
    "def RMSPE(test, y_pred):\n",
    "    return np.sqrt(np.nanmean(np.square(((test - y_pred) / test))))*100\n",
    "result1 = RMSPE(test, y_pred)\n",
    "print(\"RMSPE :\", result1)"
   ]
  },
  {
   "cell_type": "code",
   "execution_count": 14,
   "id": "658e5044",
   "metadata": {},
   "outputs": [
    {
     "data": {
      "image/png": "[encoded data removed]",
      "text/plain": [
       "<Figure size 640x480 with 1 Axes>"
      ]
     },
     "metadata": {},
     "output_type": "display_data"
    }
   ],
   "source": [
    "x_ax = range(len(test))\n",
    "plt.plot(x_ax, test, label=\"The Real Number of Tourist Arrivals\")\n",
    "plt.plot(x_ax, y_pred, label=\"The Predicted Number of Tourist Arrivals\")\n",
    "plt.title(\"Tourist Arrivals Test and Predicted Data \\n SARIMA - Time Series - Data Composition 2 (80-20)\")\n",
    "plt.legend()\n",
    "plt.show()"
   ]
  },
  {
   "cell_type": "code",
   "execution_count": null,
   "id": "0577af0b",
   "metadata": {},
   "outputs": [],
   "source": []
  }
 ],
 "metadata": {
  "kernelspec": {
   "display_name": "Python 3 (ipykernel)",
   "language": "python",
   "name": "python3"
  },
  "language_info": {
   "codemirror_mode": {
    "name": "ipython",
    "version": 3
   },
   "file_extension": ".py",
   "mimetype": "text/x-python",
   "name": "python",
   "nbconvert_exporter": "python",
   "pygments_lexer": "ipython3",
   "version": "3.9.13"
  }
 },
 "nbformat": 4,
 "nbformat_minor": 5
}
